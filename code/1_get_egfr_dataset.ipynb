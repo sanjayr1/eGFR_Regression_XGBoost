{
 "cells": [
  {
   "cell_type": "code",
   "execution_count": 1,
   "metadata": {},
   "outputs": [],
   "source": [
    "import pandas as pd\n",
    "import os\n",
    "pd.set_option('display.max_rows', 500)\n",
    "pd.set_option('display.max_columns', 500)\n",
    "pd.set_option('display.width', 1000)\n",
    "pd.set_option('max_colwidth', 800)\n",
    "%load_ext autotime"
   ]
  },
  {
   "cell_type": "code",
   "execution_count": 2,
   "metadata": {},
   "outputs": [
    {
     "name": "stdout",
     "output_type": "stream",
     "text": [
      "time: 1.16 ms\n"
     ]
    }
   ],
   "source": [
    "path = \"/Users/metaverse/Desktop/PLS/Data/\"\n",
    "num_values = 18"
   ]
  },
  {
   "cell_type": "code",
   "execution_count": 3,
   "metadata": {},
   "outputs": [
    {
     "name": "stdout",
     "output_type": "stream",
     "text": [
      "time: 44.1 s\n"
     ]
    }
   ],
   "source": [
    "egfr = pd.read_csv(os.path.join(path, \"egfr/EGFR.csv\"),sep=\"|\")\n",
    "\n",
    "# drop nan\n",
    "egfr = egfr[(egfr.value == egfr.value)]\n",
    "\n",
    "# get the last num_values recorded values\n",
    "egfr = egfr[(~egfr.value.str.contains(\"0,0\")) & (egfr.value.str.split(\",\").str.len() >= num_values)]\n",
    "\n",
    "# if the patient has more than num_values number of egfr scores, keep the last num_value count of them\n",
    "egfr.loc[(egfr.value.str.split(\",\").str.len() > num_values), \"value\"] = \\\n",
    "          egfr.value.str.split(\",\").str[-num_values:].agg(','.join)\n",
    "\n",
    "# drop rows with non-numeric values\n",
    "egfr = egfr[~egfr[\"value\"].str.contains(r\"[a-zA-Z><\\-\\*]\")]\n",
    "\n",
    "# drop rows where first or last value is 0\n",
    "egfr = egfr[~(egfr.value.str.split(\",\").str[17] == \"0\") & ~(egfr.value.str.split(\",\").str[0] == \"0\")]\n",
    "\n",
    "# drop all other columns, reset index\n",
    "egfr = egfr[[\"patientid\",\"value\"]].reset_index(drop=True)"
   ]
  },
  {
   "cell_type": "markdown",
   "metadata": {},
   "source": [
    "# add BMI, Systolic, Diastolic, Weight, Cholesterol"
   ]
  },
  {
   "cell_type": "code",
   "execution_count": 4,
   "metadata": {},
   "outputs": [
    {
     "name": "stderr",
     "output_type": "stream",
     "text": [
      "/anaconda2/envs/ipykernel_py3/lib/python3.6/site-packages/numpy/lib/arraysetops.py:569: FutureWarning: elementwise comparison failed; returning scalar instead, but in the future will perform elementwise comparison\n",
      "  mask |= (ar1 == a)\n"
     ]
    },
    {
     "name": "stdout",
     "output_type": "stream",
     "text": [
      "time: 8min 47s\n"
     ]
    }
   ],
   "source": [
    "# append lab values to egfr dataframe dropping patients who don't have those values\n",
    "for attr in [\"bmi\",\"systolic\",\"diastolic\",\"cholesterol\",\"weight\"]:\n",
    "    df = pd.read_csv(os.path.join(path, \"original/NewData/\"+attr+\".csv\"), index_col=0)\n",
    "    sharedIDs = list(set(egfr.patientid.unique().tolist()) & set(df.patientid.unique().tolist()))\n",
    "    egfr = egfr[egfr.patientid.isin(sharedIDs)]\n",
    "    df = df[df.patientid.isin(sharedIDs)]\n",
    "    df_sorted = df.sort_values(by='recordeddttm')\n",
    "    df_sorted = df_sorted.drop_duplicates('patientid', keep='last').reset_index(drop=True)\n",
    "    egfr[attr] = egfr.patientid.map(df_sorted.set_index(\"patientid\")[attr].to_dict())"
   ]
  },
  {
   "cell_type": "markdown",
   "metadata": {},
   "source": [
    "# add demographics"
   ]
  },
  {
   "cell_type": "code",
   "execution_count": 5,
   "metadata": {},
   "outputs": [
    {
     "name": "stderr",
     "output_type": "stream",
     "text": [
      "/anaconda2/envs/ipykernel_py3/lib/python3.6/site-packages/IPython/core/interactiveshell.py:2728: DtypeWarning: Columns (1,5,7,9,11,14,16) have mixed types. Specify dtype option on import or set low_memory=False.\n",
      "  interactivity=interactivity, compiler=compiler, result=result)\n",
      "/anaconda2/envs/ipykernel_py3/lib/python3.6/site-packages/numpy/lib/arraysetops.py:569: FutureWarning: elementwise comparison failed; returning scalar instead, but in the future will perform elementwise comparison\n",
      "  mask |= (ar1 == a)\n"
     ]
    },
    {
     "name": "stdout",
     "output_type": "stream",
     "text": [
      "time: 4min 3s\n"
     ]
    }
   ],
   "source": [
    "demographics = pd.read_csv(os.path.join(path, \"egfr/demo.csv\"), index_col=0) \n",
    "sharedIDs = list(set(egfr.patientid.unique().tolist()) & set(demographics.patientid.unique().tolist()))\n",
    "egfr = egfr[egfr.patientid.isin(sharedIDs)]\n",
    "demographics = demographics[demographics.patientid.isin(sharedIDs)]\n",
    "\n",
    "egfr[\"sex\"] = egfr.patientid.map(demographics.set_index(\"patientid\")[\"sex\"].to_dict())\n",
    "egfr[\"sex\"].fillna(\"unknown\",inplace=True)\n",
    "\n",
    "egfr[\"age\"] = egfr.patientid.map(demographics.set_index(\"patientid\")[\"age\"].to_dict())\n",
    "egfr[\"age\"].fillna(0.0,inplace=True)"
   ]
  },
  {
   "cell_type": "markdown",
   "metadata": {},
   "source": [
    "# Interpolate"
   ]
  },
  {
   "cell_type": "code",
   "execution_count": 6,
   "metadata": {},
   "outputs": [
    {
     "name": "stdout",
     "output_type": "stream",
     "text": [
      "time: 29.1 s\n"
     ]
    }
   ],
   "source": [
    "# get patients that have a zero egfr value\n",
    "pats_to_interp = egfr[(egfr.value.str.contains(\",0,\"))].patientid.unique().tolist()\n",
    "inter = egfr[[\"patientid\",\"value\"]].copy()\n",
    "inter[\"value\"] = inter[\"value\"].str.split(\",\")\n",
    "\n",
    "# explode egfr scores\n",
    "df1 = inter.value.apply(pd.Series).stack().rename('value')\n",
    "df2 = df1.to_frame().reset_index(1, drop=True)\n",
    "inter = df2.join(inter.patientid).reset_index(drop=True)"
   ]
  },
  {
   "cell_type": "code",
   "execution_count": 7,
   "metadata": {},
   "outputs": [
    {
     "name": "stdout",
     "output_type": "stream",
     "text": [
      "time: 411 ms\n"
     ]
    }
   ],
   "source": [
    "# replace those values that are . with 0.0\n",
    "inter.loc[inter.value == \".\", \"value\"] = 0.0\n",
    "\n",
    "# cast as float\n",
    "inter[\"value\"] = inter[\"value\"].astype(float)\n",
    "\n",
    "# interpolate only works on NaNs, set 0.0 to NaN\n",
    "inter.loc[inter[\"value\"] == 0.0, \"value\"] = float('NaN')"
   ]
  },
  {
   "cell_type": "code",
   "execution_count": 8,
   "metadata": {},
   "outputs": [
    {
     "name": "stdout",
     "output_type": "stream",
     "text": [
      "time: 8.64 ms\n"
     ]
    }
   ],
   "source": [
    "# append pats that already had a NaN in one of their values to the pats_to_interp list from above\n",
    "pats_to_interp = inter[inter.value != inter.value].patientid.unique().tolist()+pats_to_interp"
   ]
  },
  {
   "cell_type": "code",
   "execution_count": 9,
   "metadata": {
    "scrolled": true
   },
   "outputs": [
    {
     "name": "stdout",
     "output_type": "stream",
     "text": [
      "time: 2min 19s\n"
     ]
    }
   ],
   "source": [
    "# interpolate missing values for only patients with missing valies\n",
    "for i in pats_to_interp:\n",
    "    inter[inter.patientid == i] = inter[inter.patientid == i].interpolate(method='polynomial',order=1)"
   ]
  },
  {
   "cell_type": "code",
   "execution_count": 10,
   "metadata": {},
   "outputs": [
    {
     "name": "stdout",
     "output_type": "stream",
     "text": [
      "time: 12.6 s\n"
     ]
    }
   ],
   "source": [
    "# make a dictionary where key is patientid and value is the interpolated egfr scores\n",
    "interpo_dict = inter.groupby('patientid')['value'].apply(list).to_dict()"
   ]
  },
  {
   "cell_type": "code",
   "execution_count": 11,
   "metadata": {},
   "outputs": [
    {
     "name": "stdout",
     "output_type": "stream",
     "text": [
      "time: 1.21 s\n"
     ]
    }
   ],
   "source": [
    "# map the interpolated values back to the egfr dataframe\n",
    "egfr[\"value_interped\"] = egfr.patientid.map(interpo_dict)"
   ]
  },
  {
   "cell_type": "markdown",
   "metadata": {},
   "source": [
    "# One Hot Encode"
   ]
  },
  {
   "cell_type": "code",
   "execution_count": 15,
   "metadata": {},
   "outputs": [
    {
     "name": "stdout",
     "output_type": "stream",
     "text": [
      "time: 514 ms\n"
     ]
    }
   ],
   "source": [
    "# split scores into columns\n",
    "score_cols = [\"score_\"+str(i) for i in range(1,num_values+1)]\n",
    "temp = pd.DataFrame(egfr[\"value_interped\"].values.tolist(), columns=score_cols, index=egfr.index)\n",
    "egfr = egfr.join(temp, how='outer')"
   ]
  },
  {
   "cell_type": "code",
   "execution_count": 16,
   "metadata": {},
   "outputs": [
    {
     "name": "stdout",
     "output_type": "stream",
     "text": [
      "time: 223 ms\n"
     ]
    }
   ],
   "source": [
    "# encode gender\n",
    "egfr = egfr[egfr.sex != \"unknown\"]\n",
    "egfr.loc[egfr.sex == \"female\", \"sex\"] = 0\n",
    "egfr.loc[egfr.sex == \"male\", \"sex\"] = 1"
   ]
  },
  {
   "cell_type": "code",
   "execution_count": 17,
   "metadata": {},
   "outputs": [
    {
     "name": "stdout",
     "output_type": "stream",
     "text": [
      "time: 24.8 ms\n"
     ]
    }
   ],
   "source": [
    "egfr.drop([\"value\",\"value_interped\"], axis=1, inplace=True)"
   ]
  },
  {
   "cell_type": "code",
   "execution_count": 18,
   "metadata": {},
   "outputs": [
    {
     "data": {
      "text/html": [
       "<div>\n",
       "<style scoped>\n",
       "    .dataframe tbody tr th:only-of-type {\n",
       "        vertical-align: middle;\n",
       "    }\n",
       "\n",
       "    .dataframe tbody tr th {\n",
       "        vertical-align: top;\n",
       "    }\n",
       "\n",
       "    .dataframe thead th {\n",
       "        text-align: right;\n",
       "    }\n",
       "</style>\n",
       "<table border=\"1\" class=\"dataframe\">\n",
       "  <thead>\n",
       "    <tr style=\"text-align: right;\">\n",
       "      <th></th>\n",
       "      <th>patientid</th>\n",
       "      <th>bmi</th>\n",
       "      <th>systolic</th>\n",
       "      <th>diastolic</th>\n",
       "      <th>cholesterol</th>\n",
       "      <th>weight</th>\n",
       "      <th>sex</th>\n",
       "      <th>age</th>\n",
       "      <th>score_1</th>\n",
       "      <th>score_2</th>\n",
       "      <th>score_3</th>\n",
       "      <th>score_4</th>\n",
       "      <th>score_5</th>\n",
       "      <th>score_6</th>\n",
       "      <th>score_7</th>\n",
       "      <th>score_8</th>\n",
       "      <th>score_9</th>\n",
       "      <th>score_10</th>\n",
       "      <th>score_11</th>\n",
       "      <th>score_12</th>\n",
       "      <th>score_13</th>\n",
       "      <th>score_14</th>\n",
       "      <th>score_15</th>\n",
       "      <th>score_16</th>\n",
       "      <th>score_17</th>\n",
       "      <th>score_18</th>\n",
       "    </tr>\n",
       "  </thead>\n",
       "  <tbody>\n",
       "    <tr>\n",
       "      <th>1</th>\n",
       "      <td>10052646804</td>\n",
       "      <td>22.83</td>\n",
       "      <td>157.0</td>\n",
       "      <td>65.0</td>\n",
       "      <td>267.0</td>\n",
       "      <td>133.0</td>\n",
       "      <td>0</td>\n",
       "      <td>88.0</td>\n",
       "      <td>29.89</td>\n",
       "      <td>25.79</td>\n",
       "      <td>29.84</td>\n",
       "      <td>25.75</td>\n",
       "      <td>24.01</td>\n",
       "      <td>27.83</td>\n",
       "      <td>27.79</td>\n",
       "      <td>23.97</td>\n",
       "      <td>23.93</td>\n",
       "      <td>27.74</td>\n",
       "      <td>34.5</td>\n",
       "      <td>29.77</td>\n",
       "      <td>29.81</td>\n",
       "      <td>34.55</td>\n",
       "      <td>25.88</td>\n",
       "      <td>22.33</td>\n",
       "      <td>27.2</td>\n",
       "      <td>22.5</td>\n",
       "    </tr>\n",
       "    <tr>\n",
       "      <th>2</th>\n",
       "      <td>1007831917615</td>\n",
       "      <td>29.05</td>\n",
       "      <td>120.0</td>\n",
       "      <td>72.0</td>\n",
       "      <td>145.0</td>\n",
       "      <td>180.0</td>\n",
       "      <td>1</td>\n",
       "      <td>84.0</td>\n",
       "      <td>29.00</td>\n",
       "      <td>35.00</td>\n",
       "      <td>28.00</td>\n",
       "      <td>34.00</td>\n",
       "      <td>32.00</td>\n",
       "      <td>26.00</td>\n",
       "      <td>32.00</td>\n",
       "      <td>26.00</td>\n",
       "      <td>19.00</td>\n",
       "      <td>23.00</td>\n",
       "      <td>31.0</td>\n",
       "      <td>27.00</td>\n",
       "      <td>29.00</td>\n",
       "      <td>25.00</td>\n",
       "      <td>26.00</td>\n",
       "      <td>23.00</td>\n",
       "      <td>27.0</td>\n",
       "      <td>32.0</td>\n",
       "    </tr>\n",
       "  </tbody>\n",
       "</table>\n",
       "</div>"
      ],
      "text/plain": [
       "       patientid    bmi  systolic  diastolic  cholesterol  weight  sex   age  score_1  score_2  score_3  score_4  score_5  score_6  score_7  score_8  score_9  score_10  score_11  score_12  score_13  score_14  score_15  score_16  score_17  score_18\n",
       "1    10052646804  22.83     157.0       65.0        267.0   133.0    0  88.0    29.89    25.79    29.84    25.75    24.01    27.83    27.79    23.97    23.93     27.74      34.5     29.77     29.81     34.55     25.88     22.33      27.2      22.5\n",
       "2  1007831917615  29.05     120.0       72.0        145.0   180.0    1  84.0    29.00    35.00    28.00    34.00    32.00    26.00    32.00    26.00    19.00     23.00      31.0     27.00     29.00     25.00     26.00     23.00      27.0      32.0"
      ]
     },
     "execution_count": 18,
     "metadata": {},
     "output_type": "execute_result"
    },
    {
     "name": "stdout",
     "output_type": "stream",
     "text": [
      "time: 33.2 ms\n"
     ]
    }
   ],
   "source": [
    "egfr[:2]"
   ]
  },
  {
   "cell_type": "markdown",
   "metadata": {},
   "source": [
    "# Save"
   ]
  },
  {
   "cell_type": "code",
   "execution_count": 19,
   "metadata": {},
   "outputs": [
    {
     "name": "stdout",
     "output_type": "stream",
     "text": [
      "time: 2.34 s\n"
     ]
    }
   ],
   "source": [
    "egfr.to_csv(os.path.join(path, \"original/NewData/egfr_clean.csv\"))"
   ]
  },
  {
   "cell_type": "markdown",
   "metadata": {},
   "source": [
    "# Ad hoc, for BI Vis"
   ]
  },
  {
   "cell_type": "code",
   "execution_count": 4,
   "metadata": {},
   "outputs": [
    {
     "data": {
      "text/html": [
       "<div>\n",
       "<style scoped>\n",
       "    .dataframe tbody tr th:only-of-type {\n",
       "        vertical-align: middle;\n",
       "    }\n",
       "\n",
       "    .dataframe tbody tr th {\n",
       "        vertical-align: top;\n",
       "    }\n",
       "\n",
       "    .dataframe thead th {\n",
       "        text-align: right;\n",
       "    }\n",
       "</style>\n",
       "<table border=\"1\" class=\"dataframe\">\n",
       "  <thead>\n",
       "    <tr style=\"text-align: right;\">\n",
       "      <th></th>\n",
       "      <th>patientid</th>\n",
       "      <th>bmi</th>\n",
       "      <th>systolic</th>\n",
       "      <th>diastolic</th>\n",
       "      <th>cholesterol</th>\n",
       "      <th>weight</th>\n",
       "      <th>sex</th>\n",
       "      <th>age</th>\n",
       "      <th>score_1</th>\n",
       "      <th>score_2</th>\n",
       "      <th>...</th>\n",
       "      <th>score_9</th>\n",
       "      <th>score_10</th>\n",
       "      <th>score_11</th>\n",
       "      <th>score_12</th>\n",
       "      <th>score_13</th>\n",
       "      <th>score_14</th>\n",
       "      <th>score_15</th>\n",
       "      <th>score_16</th>\n",
       "      <th>score_17</th>\n",
       "      <th>score_18</th>\n",
       "    </tr>\n",
       "  </thead>\n",
       "  <tbody>\n",
       "    <tr>\n",
       "      <th>1</th>\n",
       "      <td>10052646804</td>\n",
       "      <td>22.83</td>\n",
       "      <td>157.0</td>\n",
       "      <td>65.0</td>\n",
       "      <td>267.0</td>\n",
       "      <td>133.0</td>\n",
       "      <td>0</td>\n",
       "      <td>88.0</td>\n",
       "      <td>29.89</td>\n",
       "      <td>25.79</td>\n",
       "      <td>...</td>\n",
       "      <td>23.93</td>\n",
       "      <td>27.74</td>\n",
       "      <td>34.5</td>\n",
       "      <td>29.77</td>\n",
       "      <td>29.81</td>\n",
       "      <td>34.55</td>\n",
       "      <td>25.88</td>\n",
       "      <td>22.33</td>\n",
       "      <td>27.2</td>\n",
       "      <td>22.5</td>\n",
       "    </tr>\n",
       "    <tr>\n",
       "      <th>2</th>\n",
       "      <td>1007831917615</td>\n",
       "      <td>29.05</td>\n",
       "      <td>120.0</td>\n",
       "      <td>72.0</td>\n",
       "      <td>145.0</td>\n",
       "      <td>180.0</td>\n",
       "      <td>1</td>\n",
       "      <td>84.0</td>\n",
       "      <td>29.00</td>\n",
       "      <td>35.00</td>\n",
       "      <td>...</td>\n",
       "      <td>19.00</td>\n",
       "      <td>23.00</td>\n",
       "      <td>31.0</td>\n",
       "      <td>27.00</td>\n",
       "      <td>29.00</td>\n",
       "      <td>25.00</td>\n",
       "      <td>26.00</td>\n",
       "      <td>23.00</td>\n",
       "      <td>27.0</td>\n",
       "      <td>32.0</td>\n",
       "    </tr>\n",
       "  </tbody>\n",
       "</table>\n",
       "<p>2 rows × 26 columns</p>\n",
       "</div>"
      ],
      "text/plain": [
       "       patientid    bmi  systolic  diastolic  cholesterol  weight  sex   age  \\\n",
       "1    10052646804  22.83     157.0       65.0        267.0   133.0    0  88.0   \n",
       "2  1007831917615  29.05     120.0       72.0        145.0   180.0    1  84.0   \n",
       "\n",
       "   score_1  score_2  ...  score_9  score_10  score_11  score_12  score_13  \\\n",
       "1    29.89    25.79  ...    23.93     27.74      34.5     29.77     29.81   \n",
       "2    29.00    35.00  ...    19.00     23.00      31.0     27.00     29.00   \n",
       "\n",
       "   score_14  score_15  score_16  score_17  score_18  \n",
       "1     34.55     25.88     22.33      27.2      22.5  \n",
       "2     25.00     26.00     23.00      27.0      32.0  \n",
       "\n",
       "[2 rows x 26 columns]"
      ]
     },
     "execution_count": 4,
     "metadata": {},
     "output_type": "execute_result"
    }
   ],
   "source": [
    "import pandas as pd\n",
    "path = \"/Users/metaverse/Desktop/grad_school/spring_quarter/prob_stats/homework/project/spring_ps_project/egfr_bi.csv\"\n",
    "egfr_bi = pd.read_csv(path,index_col=0)\n",
    "egfr_bi[:2]"
   ]
  },
  {
   "cell_type": "code",
   "execution_count": 8,
   "metadata": {},
   "outputs": [],
   "source": [
    "scores = [\"score_\"+str(i) for i in range(1,19)]"
   ]
  },
  {
   "cell_type": "code",
   "execution_count": 11,
   "metadata": {},
   "outputs": [],
   "source": [
    "egfr_bi = egfr_bi[[\"patientid\"]+scores]"
   ]
  },
  {
   "cell_type": "code",
   "execution_count": 12,
   "metadata": {},
   "outputs": [
    {
     "data": {
      "text/html": [
       "<div>\n",
       "<style scoped>\n",
       "    .dataframe tbody tr th:only-of-type {\n",
       "        vertical-align: middle;\n",
       "    }\n",
       "\n",
       "    .dataframe tbody tr th {\n",
       "        vertical-align: top;\n",
       "    }\n",
       "\n",
       "    .dataframe thead th {\n",
       "        text-align: right;\n",
       "    }\n",
       "</style>\n",
       "<table border=\"1\" class=\"dataframe\">\n",
       "  <thead>\n",
       "    <tr style=\"text-align: right;\">\n",
       "      <th></th>\n",
       "      <th>patientid</th>\n",
       "      <th>score_1</th>\n",
       "      <th>score_2</th>\n",
       "      <th>score_3</th>\n",
       "      <th>score_4</th>\n",
       "      <th>score_5</th>\n",
       "      <th>score_6</th>\n",
       "      <th>score_7</th>\n",
       "      <th>score_8</th>\n",
       "      <th>score_9</th>\n",
       "      <th>score_10</th>\n",
       "      <th>score_11</th>\n",
       "      <th>score_12</th>\n",
       "      <th>score_13</th>\n",
       "      <th>score_14</th>\n",
       "      <th>score_15</th>\n",
       "      <th>score_16</th>\n",
       "      <th>score_17</th>\n",
       "      <th>score_18</th>\n",
       "    </tr>\n",
       "  </thead>\n",
       "  <tbody>\n",
       "    <tr>\n",
       "      <th>1</th>\n",
       "      <td>10052646804</td>\n",
       "      <td>29.89</td>\n",
       "      <td>25.79</td>\n",
       "      <td>29.84</td>\n",
       "      <td>25.75</td>\n",
       "      <td>24.01</td>\n",
       "      <td>27.83</td>\n",
       "      <td>27.79</td>\n",
       "      <td>23.97</td>\n",
       "      <td>23.93</td>\n",
       "      <td>27.74</td>\n",
       "      <td>34.5</td>\n",
       "      <td>29.77</td>\n",
       "      <td>29.81</td>\n",
       "      <td>34.55</td>\n",
       "      <td>25.88</td>\n",
       "      <td>22.33</td>\n",
       "      <td>27.2</td>\n",
       "      <td>22.5</td>\n",
       "    </tr>\n",
       "    <tr>\n",
       "      <th>2</th>\n",
       "      <td>1007831917615</td>\n",
       "      <td>29.00</td>\n",
       "      <td>35.00</td>\n",
       "      <td>28.00</td>\n",
       "      <td>34.00</td>\n",
       "      <td>32.00</td>\n",
       "      <td>26.00</td>\n",
       "      <td>32.00</td>\n",
       "      <td>26.00</td>\n",
       "      <td>19.00</td>\n",
       "      <td>23.00</td>\n",
       "      <td>31.0</td>\n",
       "      <td>27.00</td>\n",
       "      <td>29.00</td>\n",
       "      <td>25.00</td>\n",
       "      <td>26.00</td>\n",
       "      <td>23.00</td>\n",
       "      <td>27.0</td>\n",
       "      <td>32.0</td>\n",
       "    </tr>\n",
       "  </tbody>\n",
       "</table>\n",
       "</div>"
      ],
      "text/plain": [
       "       patientid  score_1  score_2  score_3  score_4  score_5  score_6  \\\n",
       "1    10052646804    29.89    25.79    29.84    25.75    24.01    27.83   \n",
       "2  1007831917615    29.00    35.00    28.00    34.00    32.00    26.00   \n",
       "\n",
       "   score_7  score_8  score_9  score_10  score_11  score_12  score_13  \\\n",
       "1    27.79    23.97    23.93     27.74      34.5     29.77     29.81   \n",
       "2    32.00    26.00    19.00     23.00      31.0     27.00     29.00   \n",
       "\n",
       "   score_14  score_15  score_16  score_17  score_18  \n",
       "1     34.55     25.88     22.33      27.2      22.5  \n",
       "2     25.00     26.00     23.00      27.0      32.0  "
      ]
     },
     "execution_count": 12,
     "metadata": {},
     "output_type": "execute_result"
    }
   ],
   "source": [
    "egfr_bi[:2]"
   ]
  },
  {
   "cell_type": "code",
   "execution_count": 18,
   "metadata": {},
   "outputs": [],
   "source": [
    "rename_col = {\"score_\"+str(i):v+1 for v,i in enumerate(range(1,19))}"
   ]
  },
  {
   "cell_type": "code",
   "execution_count": 19,
   "metadata": {},
   "outputs": [
    {
     "name": "stderr",
     "output_type": "stream",
     "text": [
      "/anaconda2/envs/ipykernel_py3/lib/python3.6/site-packages/pandas/core/frame.py:4025: SettingWithCopyWarning: \n",
      "A value is trying to be set on a copy of a slice from a DataFrame\n",
      "\n",
      "See the caveats in the documentation: http://pandas.pydata.org/pandas-docs/stable/indexing.html#indexing-view-versus-copy\n",
      "  return super(DataFrame, self).rename(**kwargs)\n"
     ]
    }
   ],
   "source": [
    "egfr_bi.rename(columns=rename_col,inplace=True)"
   ]
  },
  {
   "cell_type": "code",
   "execution_count": 21,
   "metadata": {},
   "outputs": [],
   "source": [
    "egfr_bi.to_csv(path)"
   ]
  },
  {
   "cell_type": "code",
   "execution_count": null,
   "metadata": {},
   "outputs": [],
   "source": []
  }
 ],
 "metadata": {
  "kernelspec": {
   "display_name": "Python 3",
   "language": "python",
   "name": "python3"
  },
  "language_info": {
   "codemirror_mode": {
    "name": "ipython",
    "version": 3
   },
   "file_extension": ".py",
   "mimetype": "text/x-python",
   "name": "python",
   "nbconvert_exporter": "python",
   "pygments_lexer": "ipython3",
   "version": "3.6.4"
  }
 },
 "nbformat": 4,
 "nbformat_minor": 2
}
